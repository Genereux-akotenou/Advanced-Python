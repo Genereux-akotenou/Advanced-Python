{
 "cells": [
  {
   "cell_type": "markdown",
   "id": "1d57264a",
   "metadata": {},
   "source": [
    "## 1. Simple Thread Creation\n",
    "\n",
    "Create a simple program that uses threading to print numbers from 1 to 5 in two separate threads."
   ]
  },
  {
   "cell_type": "code",
   "execution_count": 1,
   "id": "0fb3360f",
   "metadata": {},
   "outputs": [
    {
     "name": "stdout",
     "output_type": "stream",
     "text": [
      "1 from thread: 131298836481 from thread: 13146673152\n",
      "2 from thread: 13146673152\n",
      "3 from thread: 13146673152\n",
      "4 from thread: 13146673152\n",
      "5 from thread: 13146673152\n",
      "\n",
      "2 from thread: 13129883648\n",
      "3 from thread: 13129883648\n",
      "4 from thread: 13129883648\n",
      "5 from thread: 13129883648\n"
     ]
    }
   ],
   "source": [
    "from threading import Thread, current_thread\n",
    "\n",
    "def run1_to_5():\n",
    "    for i in range(5):\n",
    "        current_t = current_thread()\n",
    "        print(f\"{i+1} from thread: {current_t.ident}\")\n",
    "\n",
    "t1 = Thread(target=run1_to_5)\n",
    "t2 = Thread(target=run1_to_5)\n",
    "\n",
    "t1.start()\n",
    "t2.start()\n",
    "\n",
    "t1.join()\n",
    "t2.join()"
   ]
  },
  {
   "cell_type": "markdown",
   "id": "a8d8ab14",
   "metadata": {},
   "source": [
    "## 2. Thread Synchronization\n",
    "\n",
    "Modify the program from Exercise 1 to use locks to synchronize the two threads and ensure that they print numbers alternately."
   ]
  },
  {
   "cell_type": "code",
   "execution_count": 6,
   "id": "c3dbaf9d",
   "metadata": {},
   "outputs": [
    {
     "name": "stdout",
     "output_type": "stream",
     "text": [
      "value: 1.0, from thread: 13129883648\n",
      "value: 2.0, from thread: 13146673152\n",
      "value: 3.0, from thread: 13129883648\n",
      "value: 4.0, from thread: 13146673152\n",
      "value: 5.0, from thread: 13129883648\n"
     ]
    }
   ],
   "source": [
    "from threading import Thread\n",
    "from multiprocessing import Value\n",
    "import threading\n",
    "\n",
    "def run(i):\n",
    "    while(int(i.value) < 6):\n",
    "        with i.get_lock():\n",
    "            current_thread = threading.current_thread()\n",
    "            print(f\"value: {i.value}, from thread: {current_thread.ident}\")\n",
    "            i.value += 1\n",
    "\n",
    "i = Value('d', 1)\n",
    "\n",
    "p1 = Thread(target=run, args=(i,))\n",
    "p2 = Thread(target=run, args=(i,))\n",
    "p1.start()\n",
    "p2.start()\n",
    "p1.join()\n",
    "p2.join()"
   ]
  },
  {
   "cell_type": "markdown",
   "id": "8d45fee2",
   "metadata": {},
   "source": [
    "## 3. Thread Pooling\n",
    "\n",
    "Use the `concurrent.futures.ThreadPoolExecutor` module to create a thread pool and parallelize a task (e.g., calculating the square of numbers) among multiple threads.\n",
    "\n",
    "```python\n",
    "numbers = [1, 2, 3, 4, 5]\n",
    "```"
   ]
  },
  {
   "cell_type": "code",
   "execution_count": 4,
   "id": "0379e5e9",
   "metadata": {},
   "outputs": [],
   "source": [
    "# your code here"
   ]
  },
  {
   "cell_type": "markdown",
   "id": "aacf816a",
   "metadata": {},
   "source": [
    "## 4. Thread with Function Arguments\n",
    "\n",
    "```python\n",
    "\n",
    "import threading\n",
    "import time\n",
    "\n",
    "def print_hello():\n",
    "    for _ in range(5):\n",
    "        print(\"Hello, \", end='')\n",
    "        time.sleep(0.1)\n",
    "\n",
    "def print_world():\n",
    "    for _ in range(5):\n",
    "        print(\"World!\")\n",
    "        time.sleep(0.1)\n",
    "\n",
    "# Create two threads\n",
    "thread1 = threading.Thread(target=print_hello)\n",
    "thread2 = threading.Thread(target=print_world)\n",
    "\n",
    "# Start the threads\n",
    "thread1.start()\n",
    "thread2.start()\n",
    "\n",
    "# Wait for both threads to finish\n",
    "thread1.join()\n",
    "thread2.join()\n",
    "```\n",
    "\n",
    "Modify this program to pass an argument to the threads and print the thread's name along with the message."
   ]
  },
  {
   "cell_type": "code",
   "execution_count": 5,
   "id": "d7fd05ee",
   "metadata": {},
   "outputs": [],
   "source": [
    "#your code here"
   ]
  },
  {
   "cell_type": "code",
   "execution_count": null,
   "id": "d2fbff02",
   "metadata": {},
   "outputs": [],
   "source": []
  }
 ],
 "metadata": {
  "kernelspec": {
   "display_name": "Python 3 (ipykernel)",
   "language": "python",
   "name": "python3"
  },
  "language_info": {
   "codemirror_mode": {
    "name": "ipython",
    "version": 3
   },
   "file_extension": ".py",
   "mimetype": "text/x-python",
   "name": "python",
   "nbconvert_exporter": "python",
   "pygments_lexer": "ipython3",
   "version": "3.10.9"
  }
 },
 "nbformat": 4,
 "nbformat_minor": 5
}
