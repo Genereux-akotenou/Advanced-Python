{
 "cells": [
  {
   "attachments": {},
   "cell_type": "markdown",
   "metadata": {},
   "source": [
    "### Exercice 2: Multiplication Matrice-Vecteur par bloc"
   ]
  },
  {
   "cell_type": "code",
   "execution_count": 1,
   "metadata": {},
   "outputs": [],
   "source": [
    "import numpy as np\n",
    "\n",
    "def mxm(A, v, p):\n",
    "    if p <= 0:\n",
    "        raise Exception(\"[p > 0; block_size must be greater than 0]\")\n",
    "\n",
    "    if len(A[0]) != len(v):\n",
    "        raise Exception('[Can not make A.v; check dimension]')\n",
    "\n",
    "    rows, cols = np.shape(A) \n",
    "    result = np.zeros(rows)\n",
    "\n",
    "    # Multiplication des blocs\n",
    "    for i in range(0, rows, p):\n",
    "        for j in range(0, cols, p):\n",
    "            for ii in range(i, min(i + p, rows)):\n",
    "                s = 0\n",
    "                for jj in range(j, min(j + p, cols)):\n",
    "                    s += A[ii][jj] * v[jj]\n",
    "                result[ii] += s\n",
    "\n",
    "    return np.array(result)"
   ]
  },
  {
   "cell_type": "markdown",
   "metadata": {},
   "source": [
    "* Test"
   ]
  },
  {
   "cell_type": "code",
   "execution_count": 2,
   "metadata": {},
   "outputs": [
    {
     "name": "stdout",
     "output_type": "stream",
     "text": [
      "Block version result: \n",
      "[4927. 4481. 3639. 4673. 3908. 5036. 3505. 4229. 4456. 4636. 5164. 3156.\n",
      " 4710. 4668. 3113. 5327. 4202. 4008. 4088. 4578.]\n",
      "\n",
      "Basic version\n",
      "[[4927 4481 3639 4673 3908 5036 3505 4229 4456 4636 5164 3156 4710 4668\n",
      "  3113 5327 4202 4008 4088 4578]]\n"
     ]
    }
   ],
   "source": [
    "n = 20\n",
    "\n",
    "# Generation de A et v aleatoire\n",
    "A = np.random.randint(30, size=(n, n))\n",
    "v = np.random.randint(30, size=(n, 1))\n",
    "\n",
    "# Test\n",
    "bloc_size = 4\n",
    "b = mxm(A, v, bloc_size)\n",
    "\n",
    "print(\"Block version result: \")\n",
    "print(b)\n",
    "print(\"\\nBasic version\")\n",
    "print(np.dot(A, v).T)\n",
    "\n",
    "# check with standard np.dot\n",
    "#assert np.array_equal(b, np.dot(A, v)), f\"Oh problem\""
   ]
  },
  {
   "attachments": {},
   "cell_type": "markdown",
   "metadata": {},
   "source": [
    "* Tracer de la courbe de performance en temps CPU"
   ]
  },
  {
   "cell_type": "code",
   "execution_count": 3,
   "metadata": {},
   "outputs": [],
   "source": [
    "import matplotlib.pyplot as plt\n",
    "import time\n",
    "\n",
    "def plot(n=200):\n",
    "    bloc_sizes = [1, 2, 10, 100]\n",
    "    cpu_time = []\n",
    "    A = np.random.randint(10, size=(n, n))\n",
    "    v = np.random.randint(10, size=(n, 1))\n",
    "\n",
    "    # For each bloc size\n",
    "    for bloc in bloc_sizes:\n",
    "        start = time.time()\n",
    "        b = mxm(A, v, bloc)\n",
    "        end = time.time()\n",
    "        cpu_time.append(end - start)\n",
    "\n",
    "    # Plot performance\n",
    "    plt.figure(figsize=(10,5))\n",
    "    plt.plot(bloc_sizes, cpu_time, marker='o', label=\"CPU/Blocs\")\n",
    "    plt.xlabel(\"Block sizes\")\n",
    "    plt.ylabel(\"CPU TIME\")\n",
    "    plt.legend(loc='upper right')\n",
    "    plt.show()"
   ]
  },
  {
   "cell_type": "code",
   "execution_count": 4,
   "metadata": {},
   "outputs": [
    {
     "data": {
      "image/png": "[encoded data removed]",
      "text/plain": [
       "<Figure size 1000x500 with 1 Axes>"
      ]
     },
     "metadata": {},
     "output_type": "display_data"
    }
   ],
   "source": [
    "# Ici vous pouvez ajuster la tail de la natrice . Pour des raisons de rapidité on a pris 200\n",
    "\n",
    "plot(200)"
   ]
  },
  {
   "attachments": {},
   "cell_type": "markdown",
   "metadata": {},
   "source": [
    "### Exercice 3: Profiling et Accélération"
   ]
  },
  {
   "attachments": {},
   "cell_type": "markdown",
   "metadata": {},
   "source": [
    "On a les fonctions suivantes :"
   ]
  },
  {
   "cell_type": "code",
   "execution_count": 5,
   "metadata": {},
   "outputs": [],
   "source": [
    "import random\n",
    "\n",
    "def sort_list(n):\n",
    "    # Generatre a list of n random integers\n",
    "    lst = [random.randint(0, 10000) for _ in range(n)]\n",
    "\n",
    "    # Sort the list\n",
    "    lst.sort()\n",
    "\n",
    "    return lst\n",
    "\n",
    "def fibonacci(n):\n",
    "    if n <= 0:\n",
    "        return 0\n",
    "    elif n == 1:\n",
    "        return 1\n",
    "    else:\n",
    "        return fibonacci(n-1) + fibonacci(n-2)"
   ]
  },
  {
   "attachments": {},
   "cell_type": "markdown",
   "metadata": {},
   "source": [
    "#### 3.1 Analyse des function avec cProfile"
   ]
  },
  {
   "cell_type": "code",
   "execution_count": 6,
   "metadata": {},
   "outputs": [
    {
     "name": "stdout",
     "output_type": "stream",
     "text": [
      "         176 function calls in 0.000 seconds\n",
      "\n",
      "   Ordered by: standard name\n",
      "\n",
      "   ncalls  tottime  percall  cumtime  percall filename:lineno(function)\n",
      "        1    0.000    0.000    0.000    0.000 1594761689.py:3(sort_list)\n",
      "        1    0.000    0.000    0.000    0.000 1594761689.py:5(<listcomp>)\n",
      "        1    0.000    0.000    0.000    0.000 <string>:1(<module>)\n",
      "       20    0.000    0.000    0.000    0.000 random.py:239(_randbelow_with_getrandbits)\n",
      "       20    0.000    0.000    0.000    0.000 random.py:292(randrange)\n",
      "       20    0.000    0.000    0.000    0.000 random.py:366(randint)\n",
      "       60    0.000    0.000    0.000    0.000 {built-in method _operator.index}\n",
      "        1    0.000    0.000    0.000    0.000 {built-in method builtins.exec}\n",
      "       20    0.000    0.000    0.000    0.000 {method 'bit_length' of 'int' objects}\n",
      "        1    0.000    0.000    0.000    0.000 {method 'disable' of '_lsprof.Profiler' objects}\n",
      "       30    0.000    0.000    0.000    0.000 {method 'getrandbits' of '_random.Random' objects}\n",
      "        1    0.000    0.000    0.000    0.000 {method 'sort' of 'list' objects}\n",
      "\n",
      "\n"
     ]
    }
   ],
   "source": [
    "import cProfile, pstats\n",
    "\n",
    "# Analyse de la premiere fonction\n",
    "cProfile.run('sort_list(20)')"
   ]
  },
  {
   "cell_type": "code",
   "execution_count": 7,
   "metadata": {},
   "outputs": [
    {
     "name": "stdout",
     "output_type": "stream",
     "text": [
      "         2692540 function calls (4 primitive calls) in 0.477 seconds\n",
      "\n",
      "   Ordered by: standard name\n",
      "\n",
      "   ncalls  tottime  percall  cumtime  percall filename:lineno(function)\n",
      "2692537/1    0.477    0.000    0.477    0.477 1594761689.py:12(fibonacci)\n",
      "        1    0.000    0.000    0.477    0.477 <string>:1(<module>)\n",
      "        1    0.000    0.000    0.477    0.477 {built-in method builtins.exec}\n",
      "        1    0.000    0.000    0.000    0.000 {method 'disable' of '_lsprof.Profiler' objects}\n",
      "\n",
      "\n"
     ]
    }
   ],
   "source": [
    "# Analyse de la deuxime fonction\n",
    "cProfile.run('fibonacci(30)')"
   ]
  },
  {
   "attachments": {},
   "cell_type": "markdown",
   "metadata": {},
   "source": [
    "#### 3.2 Explication de la sortie du profilage"
   ]
  },
  {
   "attachments": {},
   "cell_type": "markdown",
   "metadata": {},
   "source": [
    "* **sort_list**:\n",
    "\n",
    "Ici la function est tres rapide déja seulement les fonctions random sont appelées splusieurs fois.\n",
    "\n",
    "* **fibonacci**:\n",
    "\n",
    "Ici on voit d'apres la sortie que cela necessite 2692537 appellke de la function fibonacci ce qui est asssez couteux en terme de temps CPU"
   ]
  },
  {
   "attachments": {},
   "cell_type": "markdown",
   "metadata": {},
   "source": [
    "#### 3.3 Version optimisée des deux fonctions"
   ]
  },
  {
   "cell_type": "code",
   "execution_count": 8,
   "metadata": {},
   "outputs": [
    {
     "name": "stdout",
     "output_type": "stream",
     "text": [
      "         179 function calls in 0.000 seconds\n",
      "\n",
      "   Ordered by: standard name\n",
      "\n",
      "   ncalls  tottime  percall  cumtime  percall filename:lineno(function)\n",
      "        1    0.000    0.000    0.000    0.000 3413231847.py:4(sort_list_fast)\n",
      "        1    0.000    0.000    0.000    0.000 3413231847.py:5(<listcomp>)\n",
      "        1    0.000    0.000    0.000    0.000 <string>:1(<module>)\n",
      "       20    0.000    0.000    0.000    0.000 random.py:239(_randbelow_with_getrandbits)\n",
      "       20    0.000    0.000    0.000    0.000 random.py:292(randrange)\n",
      "       20    0.000    0.000    0.000    0.000 random.py:366(randint)\n",
      "       60    0.000    0.000    0.000    0.000 {built-in method _operator.index}\n",
      "        1    0.000    0.000    0.000    0.000 {built-in method builtins.exec}\n",
      "        1    0.000    0.000    0.000    0.000 {built-in method builtins.sorted}\n",
      "       20    0.000    0.000    0.000    0.000 {method 'bit_length' of 'int' objects}\n",
      "        1    0.000    0.000    0.000    0.000 {method 'disable' of '_lsprof.Profiler' objects}\n",
      "       33    0.000    0.000    0.000    0.000 {method 'getrandbits' of '_random.Random' objects}\n",
      "\n",
      "\n"
     ]
    }
   ],
   "source": [
    "import random\n",
    "\n",
    "# premiere fonction optimisée\n",
    "def sort_list_fast(n):\n",
    "    lst = [random.randint(0, 10000) for _ in range(n)]\n",
    "    sorted_lst = sorted(lst)\n",
    "    return sorted_lst\n",
    "\n",
    "cProfile.run('sort_list_fast(20)')\n",
    "# deuxieme fonction optimisée\n",
    "def fibonacci_fast(n):\n",
    "    a, b = 1, 1\n",
    "    for i in range(n):\n",
    "        a, b = a + b, a\n",
    "    return a"
   ]
  },
  {
   "attachments": {},
   "cell_type": "markdown",
   "metadata": {},
   "source": [
    "* Test sort_list"
   ]
  },
  {
   "cell_type": "code",
   "execution_count": 9,
   "metadata": {},
   "outputs": [
    {
     "name": "stdout",
     "output_type": "stream",
     "text": [
      "         184 function calls in 0.000 seconds\n",
      "\n",
      "   Ordered by: standard name\n",
      "\n",
      "   ncalls  tottime  percall  cumtime  percall filename:lineno(function)\n",
      "        1    0.000    0.000    0.000    0.000 3413231847.py:4(sort_list_fast)\n",
      "        1    0.000    0.000    0.000    0.000 3413231847.py:5(<listcomp>)\n",
      "        1    0.000    0.000    0.000    0.000 <string>:1(<module>)\n",
      "       20    0.000    0.000    0.000    0.000 random.py:239(_randbelow_with_getrandbits)\n",
      "       20    0.000    0.000    0.000    0.000 random.py:292(randrange)\n",
      "       20    0.000    0.000    0.000    0.000 random.py:366(randint)\n",
      "       60    0.000    0.000    0.000    0.000 {built-in method _operator.index}\n",
      "        1    0.000    0.000    0.000    0.000 {built-in method builtins.exec}\n",
      "        1    0.000    0.000    0.000    0.000 {built-in method builtins.sorted}\n",
      "       20    0.000    0.000    0.000    0.000 {method 'bit_length' of 'int' objects}\n",
      "        1    0.000    0.000    0.000    0.000 {method 'disable' of '_lsprof.Profiler' objects}\n",
      "       38    0.000    0.000    0.000    0.000 {method 'getrandbits' of '_random.Random' objects}\n",
      "\n",
      "\n"
     ]
    }
   ],
   "source": [
    "cProfile.run('sort_list_fast(20)')"
   ]
  },
  {
   "attachments": {},
   "cell_type": "markdown",
   "metadata": {},
   "source": [
    "* Test fibonacci"
   ]
  },
  {
   "cell_type": "code",
   "execution_count": 10,
   "metadata": {},
   "outputs": [
    {
     "name": "stdout",
     "output_type": "stream",
     "text": [
      "         4 function calls in 0.000 seconds\n",
      "\n",
      "   Ordered by: standard name\n",
      "\n",
      "   ncalls  tottime  percall  cumtime  percall filename:lineno(function)\n",
      "        1    0.000    0.000    0.000    0.000 3413231847.py:11(fibonacci_fast)\n",
      "        1    0.000    0.000    0.000    0.000 <string>:1(<module>)\n",
      "        1    0.000    0.000    0.000    0.000 {built-in method builtins.exec}\n",
      "        1    0.000    0.000    0.000    0.000 {method 'disable' of '_lsprof.Profiler' objects}\n",
      "\n",
      "\n"
     ]
    }
   ],
   "source": [
    "cProfile.run('fibonacci_fast(30)')"
   ]
  },
  {
   "attachments": {},
   "cell_type": "markdown",
   "metadata": {},
   "source": [
    "D'apres les resultats de ce test on voit bien que cette function s'execute en bien moint de temps que la version naive"
   ]
  },
  {
   "attachments": {},
   "cell_type": "markdown",
   "metadata": {},
   "source": [
    "#### 3.4 Accélération avec numba"
   ]
  },
  {
   "cell_type": "code",
   "execution_count": 11,
   "metadata": {},
   "outputs": [],
   "source": [
    "from numba import njit, prange\n",
    "\n",
    "# Fibonacci accelerée avec numba\n",
    "@njit(fastmath=True, parallel=True)\n",
    "def fibonacci_fast(n: \"int\"):\n",
    "    a, b = 1, 1\n",
    "    for i in prange(n):\n",
    "        a, b = a + b, a\n",
    "    return a"
   ]
  },
  {
   "cell_type": "code",
   "execution_count": 12,
   "metadata": {},
   "outputs": [],
   "source": [
    "from numba import njit, prange\n",
    "\n",
    "# sort_list accelerée avec numba\n",
    "@njit(fastmath=True, parallel=True)\n",
    "def sort_list_fast(n: \"int\"):\n",
    "    lst = [random.randint(0, 10000) for _ in range(n)]\n",
    "    sorted_lst = sorted(lst)\n",
    "    return sorted_lst"
   ]
  },
  {
   "attachments": {},
   "cell_type": "markdown",
   "metadata": {},
   "source": [
    "### Exercice 4: POO"
   ]
  },
  {
   "cell_type": "code",
   "execution_count": 13,
   "metadata": {},
   "outputs": [],
   "source": [
    "# Import required file\n",
    "\n",
    "import numpy as np\n",
    "import matplotlib.pyplot as plt\n",
    "from abc import ABC, abstractmethod"
   ]
  },
  {
   "cell_type": "code",
   "execution_count": 14,
   "metadata": {},
   "outputs": [],
   "source": [
    "class PDE(ABC):\n",
    "    @abstractmethod\n",
    "    def set_equation(self):\n",
    "        pass\n",
    "\n",
    "    @abstractmethod\n",
    "    def set_initial_conditions(self):\n",
    "        pass\n",
    "\n",
    "    @abstractmethod\n",
    "    def set_boundary_conditions(self):\n",
    "        pass\n"
   ]
  },
  {
   "cell_type": "code",
   "execution_count": 15,
   "metadata": {},
   "outputs": [],
   "source": [
    "class HeatEquation(PDE):\n",
    "    def set_heat_equation(self):\n",
    "        self.type = \"Heat Equation par difference finies\"\n",
    "\n",
    "    def set_initial_conditions(self, funct):\n",
    "        self.initial_conditions = funct\n",
    "\n",
    "    def set_boundary_conditions(self, funct):\n",
    "        self.boundary_conditions = funct\n"
   ]
  },
  {
   "cell_type": "code",
   "execution_count": 16,
   "metadata": {},
   "outputs": [],
   "source": [
    "class Solver(ABC):\n",
    "    def solve():\n",
    "        pass"
   ]
  },
  {
   "cell_type": "code",
   "execution_count": 17,
   "metadata": {},
   "outputs": [],
   "source": [
    "class HeatEquationSolver(Solver, HeatEquation):\n",
    "    def __init__(self, pde):\n",
    "        self.pde = pde\n",
    "    \n",
    "    def solve(self, T, X, Y, dt, dx, dy):\n",
    "        # ecrire \n",
    "        Nt = int(T / dt)\n",
    "        Nx, Ny = len(X), len(Y)\n",
    "        u = np.zeros((Nt+1, Nx, Ny))\n",
    "\n",
    "        # Initialisation des conditions initiales\n",
    "        for i in range(Nx):\n",
    "            for j in range(Ny):\n",
    "                u[0, i, j] = self.pde.initial_conditions(i, j)\n",
    "\n",
    "        # Discretisation en temps zet en espace\n",
    "        for n in range(Nt):\n",
    "            for i in range(1, Nx - 1):\n",
    "                for j in range(1, Nx - 1):\n",
    "                    uxx = u[n, i-1,j] - 2*u[n, i,j] + u[n, i+1,j]\n",
    "                    uyy = u[n, i,j-1] - 2*u[n, i,j] + u[n, i,j+1]\n",
    "                    u[n+1, i, j] = u[n, i, j] + self.pde.D * (uxx + uyy) * dt\n",
    "                    # ..."
   ]
  },
  {
   "cell_type": "code",
   "execution_count": null,
   "metadata": {},
   "outputs": [],
   "source": []
  },
  {
   "cell_type": "code",
   "execution_count": null,
   "metadata": {},
   "outputs": [],
   "source": [
    "https://cdn.mathpix.com/snip/images/OIR3cYCZG3b5qWUJkJpFnRxjmnHeXXozGfX8e80ERi0.original.fullsize.png"
   ]
  }
 ],
 "metadata": {
  "kernelspec": {
   "display_name": "base",
   "language": "python",
   "name": "python3"
  },
  "language_info": {
   "codemirror_mode": {
    "name": "ipython",
    "version": 3
   },
   "file_extension": ".py",
   "mimetype": "text/x-python",
   "name": "python",
   "nbconvert_exporter": "python",
   "pygments_lexer": "ipython3",
   "version": "3.10.9"
  },
  "orig_nbformat": 4
 },
 "nbformat": 4,
 "nbformat_minor": 2
}
