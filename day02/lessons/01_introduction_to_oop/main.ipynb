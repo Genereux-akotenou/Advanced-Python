{
 "cells": [
  {
   "cell_type": "code",
   "execution_count": 2,
   "id": "4f2054b3",
   "metadata": {},
   "outputs": [
    {
     "name": "stdout",
     "output_type": "stream",
     "text": [
      "500\n",
      "3000\n"
     ]
    }
   ],
   "source": [
    "# How to create a class:\n",
    "class Item:\n",
    "    def calculate_total_price(self, x, y):\n",
    "        return x * y\n",
    "\n",
    "# How to create an instance of a class\n",
    "item1 = Item()\n",
    "\n",
    "# Assign attributes:\n",
    "item1.name = \"Phone\"\n",
    "item1.price = 100\n",
    "item1.quantity = 5\n",
    "\n",
    "# Calling methods from instances of a class:\n",
    "print(item1.calculate_total_price(item1.price, item1.quantity))\n",
    "\n",
    "# How to create an instance of a class (We could create as much as instances we'd like to)\n",
    "item2 = Item()\n",
    "\n",
    "# Assign attributes\n",
    "item2.name = \"Laptop\"\n",
    "item2.price = 1000\n",
    "item2.quantity = 3\n",
    "\n",
    "# Calling methods from instances of a class: \n",
    "print(item2.calculate_total_price(item2.price, item2.quantity))"
   ]
  },
  {
   "cell_type": "code",
   "execution_count": 9,
   "id": "2c575022",
   "metadata": {},
   "outputs": [],
   "source": [
    "import numpy as np"
   ]
  },
  {
   "cell_type": "code",
   "execution_count": 25,
   "id": "f00caa8d",
   "metadata": {},
   "outputs": [],
   "source": [
    "class Math:\n",
    "    def division(self, x, y):\n",
    "        if y != 0:\n",
    "            return x/y\n",
    "        else:\n",
    "            return \"Error division by zero\""
   ]
  },
  {
   "cell_type": "code",
   "execution_count": 26,
   "id": "dc4139be",
   "metadata": {},
   "outputs": [],
   "source": [
    "math = Math()"
   ]
  },
  {
   "cell_type": "code",
   "execution_count": 27,
   "id": "ccd7e226",
   "metadata": {},
   "outputs": [
    {
     "data": {
      "text/plain": [
       "'Error division by zero'"
      ]
     },
     "execution_count": 27,
     "metadata": {},
     "output_type": "execute_result"
    }
   ],
   "source": [
    "math.division(-5, 0)"
   ]
  },
  {
   "cell_type": "code",
   "execution_count": null,
   "id": "9282439b",
   "metadata": {},
   "outputs": [],
   "source": []
  }
 ],
 "metadata": {
  "kernelspec": {
   "display_name": "Python 3 (ipykernel)",
   "language": "python",
   "name": "python3"
  },
  "language_info": {
   "codemirror_mode": {
    "name": "ipython",
    "version": 3
   },
   "file_extension": ".py",
   "mimetype": "text/x-python",
   "name": "python",
   "nbconvert_exporter": "python",
   "pygments_lexer": "ipython3",
   "version": "3.10.9"
  }
 },
 "nbformat": 4,
 "nbformat_minor": 5
}
