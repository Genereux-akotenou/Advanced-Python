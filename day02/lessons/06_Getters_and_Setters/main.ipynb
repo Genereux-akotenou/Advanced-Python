{
 "cells": [
  {
   "cell_type": "code",
   "execution_count": 2,
   "id": "43f771ab",
   "metadata": {},
   "outputs": [],
   "source": [
    "import csv\n",
    "\n",
    "class Item:\n",
    "    pay_rate = 0.8 # The pay rate after 20% discount\n",
    "    all = []\n",
    "    def __init__(self, name: str, price: float, quantity=0):\n",
    "        # Run validations to the received arguments\n",
    "        assert price >= 0, f\"Price {price} is not greater than or equal to zero!\"\n",
    "        assert quantity >= 0, f\"Quantity {quantity} is not greater or equal to zero!\"\n",
    "\n",
    "        # Assign to self object\n",
    "        self.__name = name\n",
    "        self.__price = price\n",
    "        self.quantity = quantity\n",
    "\n",
    "        # Actions to execute\n",
    "        Item.all.append(self)\n",
    "\n",
    "    @property\n",
    "    def name(self):\n",
    "        return self.__name\n",
    "    \n",
    "    @property\n",
    "    def price(self):\n",
    "        return self.__price\n",
    "    \n",
    "    @price.setter\n",
    "    def price(self, value):\n",
    "        assert value>0, \"Error value should be greatter than zero\"\n",
    "        self.__price = value\n",
    "\n",
    "    @name.setter\n",
    "    def name(self, value):\n",
    "        if len(value) > 10:\n",
    "            raise Exception(\"The name is too long!\")\n",
    "        else:\n",
    "            self.__name = value\n",
    "\n",
    "    def calculate_total_price(self):\n",
    "        return self.price * self.quantity\n",
    "\n",
    "    def apply_discount(self):\n",
    "        self.price = self.price * self.pay_rate\n",
    "\n",
    "    @classmethod\n",
    "    def instantiate_from_csv(cls):\n",
    "        with open('items.csv', 'r') as f:\n",
    "            reader = csv.DictReader(f)\n",
    "            items = list(reader)\n",
    "\n",
    "        for item in items:\n",
    "            Item(\n",
    "                name=item.get('name'),\n",
    "                price=float(item.get('price')),\n",
    "                quantity=int(item.get('quantity')),\n",
    "            )\n",
    "\n",
    "    @staticmethod\n",
    "    def is_integer(num):\n",
    "        # We will count out the floats that are point zero\n",
    "        # For i.e: 5.0, 10.0\n",
    "        if isinstance(num, float):\n",
    "            # Count out the floats that are point zero\n",
    "            return num.is_integer()\n",
    "        elif isinstance(num, int):\n",
    "            return True\n",
    "        else:\n",
    "            return False\n",
    "\n",
    "    def __repr__(self):\n",
    "        return f\"{self.__class__.__name__}('{self.name}', {self.price}, {self.quantity})\""
   ]
  },
  {
   "cell_type": "code",
   "execution_count": 3,
   "id": "d58c0305",
   "metadata": {},
   "outputs": [],
   "source": [
    "class Phone(Item):\n",
    "    def __init__(self, name: str, price: float, quantity=0, broken_phones=0):\n",
    "        # Call to super function to have access to all attributes / methods\n",
    "        super().__init__(\n",
    "            name, price, quantity\n",
    "        )\n",
    "\n",
    "        # Run validations to the received arguments\n",
    "        assert broken_phones >= 0, f\"Broken Phones {broken_phones} is not greater or equal to zero!\"\n",
    "\n",
    "        # Assign to self object\n",
    "        self.broken_phones = broken_phones"
   ]
  },
  {
   "cell_type": "code",
   "execution_count": 4,
   "id": "2d565e24",
   "metadata": {},
   "outputs": [
    {
     "name": "stdout",
     "output_type": "stream",
     "text": [
      "OtherIte\n"
     ]
    }
   ],
   "source": [
    "item1 = Item(\"MyItem\", 750)\n",
    "\n",
    "# Setting an Attribute\n",
    "item1.name = \"OtherIte\"\n",
    "\n",
    "# Getting an Attribute\n",
    "print(item1.name)"
   ]
  },
  {
   "cell_type": "code",
   "execution_count": 5,
   "id": "f22654c2",
   "metadata": {},
   "outputs": [
    {
     "ename": "AssertionError",
     "evalue": "Error value should be greatter than zero",
     "output_type": "error",
     "traceback": [
      "\u001b[0;31m---------------------------------------------------------------------------\u001b[0m",
      "\u001b[0;31mAssertionError\u001b[0m                            Traceback (most recent call last)",
      "Cell \u001b[0;32mIn[5], line 1\u001b[0m\n\u001b[0;32m----> 1\u001b[0m item1\u001b[38;5;241m.\u001b[39mprice \u001b[38;5;241m=\u001b[39m \u001b[38;5;241m0\u001b[39m\n",
      "Cell \u001b[0;32mIn[2], line 29\u001b[0m, in \u001b[0;36mItem.price\u001b[0;34m(self, value)\u001b[0m\n\u001b[1;32m     27\u001b[0m \u001b[38;5;129m@price\u001b[39m\u001b[38;5;241m.\u001b[39msetter\n\u001b[1;32m     28\u001b[0m \u001b[38;5;28;01mdef\u001b[39;00m \u001b[38;5;21mprice\u001b[39m(\u001b[38;5;28mself\u001b[39m, value):\n\u001b[0;32m---> 29\u001b[0m     \u001b[38;5;28;01massert\u001b[39;00m value\u001b[38;5;241m>\u001b[39m\u001b[38;5;241m0\u001b[39m, \u001b[38;5;124m\"\u001b[39m\u001b[38;5;124mError value should be greatter than zero\u001b[39m\u001b[38;5;124m\"\u001b[39m\n\u001b[1;32m     30\u001b[0m     \u001b[38;5;28mself\u001b[39m\u001b[38;5;241m.\u001b[39m__price \u001b[38;5;241m=\u001b[39m value\n",
      "\u001b[0;31mAssertionError\u001b[0m: Error value should be greatter than zero"
     ]
    }
   ],
   "source": [
    "item1.price = 0"
   ]
  },
  {
   "cell_type": "code",
   "execution_count": null,
   "id": "3079b661",
   "metadata": {},
   "outputs": [],
   "source": [
    "item1.price"
   ]
  },
  {
   "cell_type": "code",
   "execution_count": null,
   "id": "77629a66",
   "metadata": {},
   "outputs": [],
   "source": [
    "import matplotlib.pyplot as plt\n",
    "import numpy as np\n",
    "\n",
    "x = np.array([1, 2, 4])\n",
    "\n",
    "y = x**2 + 5\n",
    "\n",
    "plt.plot(x, y, marker='o', linestyle='-', color='blue')\n",
    "\n",
    "# Set plot labels and title\n",
    "plt.xlabel('y = x^2 + 5')\n",
    "plt.ylabel('Frequency')\n",
    "plt.title('Frequency plot of y = x^2 + 5')\n",
    "\n",
    "plt.show()"
   ]
  },
  {
   "cell_type": "code",
   "execution_count": null,
   "id": "1585fadd",
   "metadata": {},
   "outputs": [],
   "source": [
    "def gamma(alpha):\n",
    "    return np.math.factorial(alpha - 1)"
   ]
  },
  {
   "cell_type": "code",
   "execution_count": null,
   "id": "bc85a035",
   "metadata": {},
   "outputs": [],
   "source": [
    "def f(x, alpha, beta):\n",
    "    return 1/(gamma(alpha)*(beta**alpha)) * x**(alpha - 1) * np.exp(-x/beta)"
   ]
  },
  {
   "cell_type": "code",
   "execution_count": null,
   "id": "c03316ea",
   "metadata": {},
   "outputs": [],
   "source": [
    "import matplotlib.pyplot as plt\n",
    "import numpy as np\n",
    "\n",
    "alpha = 5\n",
    "beta = 2\n",
    "\n",
    "x = np.linspace(10, 500, 400)\n",
    "y = [f(i, alpha, beta) for i in x]\n",
    "\n",
    "plt.plot(x, y, marker='o', linestyle='-', color='blue')\n",
    "\n",
    "plt.show()"
   ]
  },
  {
   "cell_type": "code",
   "execution_count": null,
   "id": "04d30910",
   "metadata": {},
   "outputs": [],
   "source": [
    "def exp(x, l):\n",
    "    return -l*np.exp(-l*x)"
   ]
  },
  {
   "cell_type": "code",
   "execution_count": null,
   "id": "3d96e35c",
   "metadata": {
    "scrolled": false
   },
   "outputs": [],
   "source": [
    "import matplotlib.pyplot as plt\n",
    "import numpy as np\n",
    "\n",
    "exp_dist = [np.random.exponential(5) for i in range(100000)]"
   ]
  },
  {
   "cell_type": "code",
   "execution_count": null,
   "id": "0b29e553",
   "metadata": {
    "scrolled": false
   },
   "outputs": [],
   "source": [
    "plt.hist(exp_dist,200)"
   ]
  },
  {
   "cell_type": "code",
   "execution_count": null,
   "id": "8bb7f161",
   "metadata": {},
   "outputs": [],
   "source": [
    "import matplotlib.pyplot as plt\n",
    "import numpy as np\n",
    "\n",
    "a = 1\n",
    "b = 4\n",
    "x = 5\n",
    "\n",
    "gamma_dist = [np.random.beta(1000, a, b) * x for i in range(100000)]\n",
    "plt.hist(gamma_dist,200)"
   ]
  },
  {
   "cell_type": "code",
   "execution_count": 6,
   "id": "f3e3aeaf",
   "metadata": {},
   "outputs": [
    {
     "ename": "SyntaxError",
     "evalue": "invalid syntax (2469254449.py, line 1)",
     "output_type": "error",
     "traceback": [
      "\u001b[0;36m  Cell \u001b[0;32mIn[6], line 1\u001b[0;36m\u001b[0m\n\u001b[0;31m    np.\u001b[0m\n\u001b[0m       ^\u001b[0m\n\u001b[0;31mSyntaxError\u001b[0m\u001b[0;31m:\u001b[0m invalid syntax\n"
     ]
    }
   ],
   "source": []
  },
  {
   "cell_type": "code",
   "execution_count": null,
   "id": "a13b3d88",
   "metadata": {},
   "outputs": [],
   "source": []
  },
  {
   "cell_type": "code",
   "execution_count": null,
   "id": "42dc3002",
   "metadata": {},
   "outputs": [],
   "source": []
  },
  {
   "cell_type": "code",
   "execution_count": null,
   "id": "879c9317",
   "metadata": {},
   "outputs": [],
   "source": []
  },
  {
   "cell_type": "code",
   "execution_count": null,
   "id": "f1ae480e",
   "metadata": {},
   "outputs": [],
   "source": []
  }
 ],
 "metadata": {
  "kernelspec": {
   "display_name": "Python 3 (ipykernel)",
   "language": "python",
   "name": "python3"
  },
  "language_info": {
   "codemirror_mode": {
    "name": "ipython",
    "version": 3
   },
   "file_extension": ".py",
   "mimetype": "text/x-python",
   "name": "python",
   "nbconvert_exporter": "python",
   "pygments_lexer": "ipython3",
   "version": "3.10.9"
  }
 },
 "nbformat": 4,
 "nbformat_minor": 5
}
