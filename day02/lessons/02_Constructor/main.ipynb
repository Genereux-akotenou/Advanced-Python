{
 "cells": [
  {
   "cell_type": "code",
   "execution_count": 57,
   "id": "eb7825c0",
   "metadata": {},
   "outputs": [
    {
     "name": "stdout",
     "output_type": "stream",
     "text": [
      "0\n",
      "3000\n"
     ]
    }
   ],
   "source": [
    "class Item:\n",
    "    \"\"\"\n",
    "    This is Item docuermentation\n",
    "    \"\"\"\n",
    "    def __init__(self, name: str, price: float, quantity=0):\n",
    "        # Run validations to the received arguments\n",
    "        assert price >= 0, f\"Price {price} is not greater than or equal to zero!\"\n",
    "        assert quantity >= 0, f\"Quantity {quantity} is not greater or equal to zero!\"\n",
    "\n",
    "        # Assign to self object\n",
    "        self.name = name\n",
    "        self.price = price\n",
    "        self.quantity = quantity\n",
    "\n",
    "    def calculate_total_price(self):\n",
    "        \"\"\"This caculate total price\"\"\"\n",
    "        return self.price * self.quantity\n",
    "\n",
    "item1 = Item(\"Phone\", 100)\n",
    "item2 = Item(\"Laptop\", 1000, 3)\n",
    "\n",
    "print(item1.calculate_total_price())\n",
    "print(item2.calculate_total_price())"
   ]
  },
  {
   "cell_type": "code",
   "execution_count": 58,
   "id": "217a324e",
   "metadata": {},
   "outputs": [],
   "source": [
    "item = Item(\"test\", 3)"
   ]
  },
  {
   "cell_type": "code",
   "execution_count": 59,
   "id": "86d70f0a",
   "metadata": {},
   "outputs": [
    {
     "data": {
      "text/plain": [
       "'\\n    This is Item docuermentation\\n    '"
      ]
     },
     "execution_count": 59,
     "metadata": {},
     "output_type": "execute_result"
    }
   ],
   "source": [
    "item.__doc__"
   ]
  },
  {
   "cell_type": "code",
   "execution_count": 60,
   "id": "217e6fa6",
   "metadata": {},
   "outputs": [
    {
     "data": {
      "text/plain": [
       "'This caculate total price'"
      ]
     },
     "execution_count": 60,
     "metadata": {},
     "output_type": "execute_result"
    }
   ],
   "source": [
    "item.calculate_total_price.__doc__"
   ]
  },
  {
   "cell_type": "code",
   "execution_count": 1,
   "id": "68d7adcc",
   "metadata": {},
   "outputs": [],
   "source": [
    "def test(a):\n",
    "    return a"
   ]
  },
  {
   "cell_type": "code",
   "execution_count": 4,
   "id": "06bd01b5",
   "metadata": {},
   "outputs": [
    {
     "data": {
      "text/plain": [
       "123"
      ]
     },
     "execution_count": 4,
     "metadata": {},
     "output_type": "execute_result"
    }
   ],
   "source": [
    "test(123)"
   ]
  },
  {
   "cell_type": "code",
   "execution_count": 9,
   "id": "ef5176d2",
   "metadata": {},
   "outputs": [],
   "source": [
    "def test(a=23):\n",
    "    return a"
   ]
  },
  {
   "cell_type": "code",
   "execution_count": 11,
   "id": "1ece2d32",
   "metadata": {},
   "outputs": [
    {
     "data": {
      "text/plain": [
       "34566"
      ]
     },
     "execution_count": 11,
     "metadata": {},
     "output_type": "execute_result"
    }
   ],
   "source": [
    "test(34566)"
   ]
  },
  {
   "cell_type": "code",
   "execution_count": 17,
   "id": "9ce4a005",
   "metadata": {},
   "outputs": [],
   "source": [
    "def test(a: float=23.9) -> int:\n",
    "    return a"
   ]
  },
  {
   "cell_type": "code",
   "execution_count": 18,
   "id": "fd4a46a2",
   "metadata": {},
   "outputs": [
    {
     "data": {
      "text/plain": [
       "23.9"
      ]
     },
     "execution_count": 18,
     "metadata": {},
     "output_type": "execute_result"
    }
   ],
   "source": [
    "test()"
   ]
  },
  {
   "cell_type": "code",
   "execution_count": null,
   "id": "48e88d15",
   "metadata": {},
   "outputs": [],
   "source": [
    "int test(int a)  {\n",
    "    return a;\n",
    "}"
   ]
  },
  {
   "cell_type": "code",
   "execution_count": 23,
   "id": "dab27393",
   "metadata": {},
   "outputs": [
    {
     "name": "stdout",
     "output_type": "stream",
     "text": [
      "je m'appel:  GÉNÉREUX - AKOTENOU\n"
     ]
    }
   ],
   "source": [
    "a = \"GÉNÉREUX\"\n",
    "b = \"AKOTENOU\"\n",
    "print(\"je m'appel: \", a, \"-\", b)"
   ]
  },
  {
   "cell_type": "code",
   "execution_count": 24,
   "id": "da84109c",
   "metadata": {},
   "outputs": [
    {
     "name": "stdout",
     "output_type": "stream",
     "text": [
      "je m'appel GÉNÉREUX AKOTENOU\n"
     ]
    }
   ],
   "source": [
    "print(f\"je m'appel {a} {b}\")"
   ]
  },
  {
   "cell_type": "code",
   "execution_count": 25,
   "id": "871b2453",
   "metadata": {},
   "outputs": [
    {
     "name": "stdout",
     "output_type": "stream",
     "text": [
      "Je m'appel: GÉNÉREUX-AKOTENOU\n"
     ]
    }
   ],
   "source": [
    "print(\"Je m'appel: {}-{}\".format(a, b))"
   ]
  },
  {
   "cell_type": "code",
   "execution_count": 48,
   "id": "d0dbbd3f",
   "metadata": {},
   "outputs": [],
   "source": [
    "class Item:\n",
    "    # attrbute\n",
    "    name = \"\"\n",
    "    \n",
    "    # consructeur\n",
    "    def __init__(self, name: str):\n",
    "        name = \"ddddd\"\n",
    "        assert len(name)>= 2,  f\"ERROR: {name}\"\n",
    "\n",
    "        self.name = name\n",
    "\n",
    "    # function\n",
    "    def display_name(self):\n",
    "        return f\"##### NAME: {self.name}\""
   ]
  },
  {
   "cell_type": "code",
   "execution_count": 49,
   "id": "e201b116",
   "metadata": {},
   "outputs": [],
   "source": [
    "item = Item(\"Hanan\")"
   ]
  },
  {
   "cell_type": "code",
   "execution_count": null,
   "id": "b9c88e47",
   "metadata": {},
   "outputs": [],
   "source": []
  }
 ],
 "metadata": {
  "kernelspec": {
   "display_name": "Python 3 (ipykernel)",
   "language": "python",
   "name": "python3"
  },
  "language_info": {
   "codemirror_mode": {
    "name": "ipython",
    "version": 3
   },
   "file_extension": ".py",
   "mimetype": "text/x-python",
   "name": "python",
   "nbconvert_exporter": "python",
   "pygments_lexer": "ipython3",
   "version": "3.10.9"
  }
 },
 "nbformat": 4,
 "nbformat_minor": 5
}
