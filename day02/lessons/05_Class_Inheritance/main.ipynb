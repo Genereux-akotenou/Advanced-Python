{
 "cells": [
  {
   "cell_type": "code",
   "execution_count": 39,
   "id": "ce708c14",
   "metadata": {},
   "outputs": [
    {
     "name": "stdout",
     "output_type": "stream",
     "text": [
      "[Phone('jscPhonev10', 500, 5)]\n"
     ]
    }
   ],
   "source": [
    "import csv\n",
    "\n",
    "\n",
    "class Item:\n",
    "    pay_rate = 0.8 # The pay rate after 20% discount\n",
    "    all = []\n",
    "    def __init__(self, name: str, price: float, quantity=0):\n",
    "        # Run validations to the received arguments\n",
    "        assert price >= 0, f\"Price {price} is not greater than or equal to zero!\"\n",
    "        assert quantity >= 0, f\"Quantity {quantity} is not greater or equal to zero!\"\n",
    "\n",
    "        # Assign to self object\n",
    "        self.name = name\n",
    "        self.price = price\n",
    "        self.quantity = quantity\n",
    "\n",
    "        # Actions to execute\n",
    "        Item.all.append(self)\n",
    "\n",
    "    def calculate_total_price(self):\n",
    "        return self.price * self.quantity\n",
    "\n",
    "    def apply_discount(self):\n",
    "        self.price = self.price * self.pay_rate\n",
    "\n",
    "    def __repr__(self):\n",
    "        return f\"{self.__class__.__name__}('{self.name}', {self.price}, {self.quantity})\"\n",
    "\n",
    "\n",
    "class Phone(Item):\n",
    "    def __init__(self, name: str, price: float, quantity=0, broken_phones=0):\n",
    "        # Call to super function to have access to all attributes / methods\n",
    "        super().__init__(\n",
    "            name, price, quantity\n",
    "        )\n",
    "\n",
    "        # Run validations to the received arguments\n",
    "        assert broken_phones >= 0, f\"Broken Phones {broken_phones} is not greater or equal to zero!\"\n",
    "\n",
    "        # Assign to self object\n",
    "        self.broken_phones = broken_phones\n",
    "\n",
    "phone1 = Phone(\"jscPhonev10\", 500, 5, 1)\n",
    "\n",
    "print(Item.all)"
   ]
  },
  {
   "cell_type": "code",
   "execution_count": null,
   "id": "3ffabf38",
   "metadata": {},
   "outputs": [],
   "source": []
  },
  {
   "cell_type": "code",
   "execution_count": 67,
   "id": "5ee1efb3",
   "metadata": {},
   "outputs": [],
   "source": [
    "class Person:\n",
    "    nombre_person = 0\n",
    "    def __init__(self, name):\n",
    "        self.__name = name\n",
    "        \n",
    "    @property\n",
    "    def name(self):\n",
    "        return self.__name\n",
    "    \n",
    "    @name.setter\n",
    "    def name(self, value):\n",
    "        self.__name = value\n",
    "        \n",
    "    def __repr__(self):\n",
    "        return f\"Person[name={self.name}]\""
   ]
  },
  {
   "cell_type": "code",
   "execution_count": 63,
   "id": "d5de1e2a",
   "metadata": {},
   "outputs": [],
   "source": [
    "class Etudiant(Person):\n",
    "    def __init__(self, name, filiere):\n",
    "        super().__init__(name)\n",
    "        self.filiere = filiere\n",
    "    \n",
    "    def __repr__(self):\n",
    "        return f\"Etudiant[name={self.name}, filiere={self.filiere}]\""
   ]
  },
  {
   "cell_type": "code",
   "execution_count": 66,
   "id": "644673d2",
   "metadata": {},
   "outputs": [],
   "source": [
    "person1 = Etudiant(\"Hanan\", \"QFM\")"
   ]
  },
  {
   "cell_type": "code",
   "execution_count": 65,
   "id": "ded7ffbf",
   "metadata": {},
   "outputs": [
    {
     "name": "stdout",
     "output_type": "stream",
     "text": [
      "Etudiant[name=Hanan, filiere=zzz]\n"
     ]
    }
   ],
   "source": [
    "print(person1)"
   ]
  },
  {
   "cell_type": "code",
   "execution_count": null,
   "id": "9b9f1f4f",
   "metadata": {},
   "outputs": [],
   "source": []
  },
  {
   "cell_type": "code",
   "execution_count": null,
   "id": "91d01018",
   "metadata": {},
   "outputs": [],
   "source": []
  },
  {
   "cell_type": "code",
   "execution_count": null,
   "id": "73b83c5a",
   "metadata": {},
   "outputs": [],
   "source": []
  },
  {
   "cell_type": "code",
   "execution_count": null,
   "id": "71f4fe4a",
   "metadata": {},
   "outputs": [],
   "source": []
  },
  {
   "cell_type": "code",
   "execution_count": null,
   "id": "087c5666",
   "metadata": {},
   "outputs": [],
   "source": []
  },
  {
   "cell_type": "code",
   "execution_count": null,
   "id": "dfe472e2",
   "metadata": {},
   "outputs": [],
   "source": []
  },
  {
   "cell_type": "code",
   "execution_count": 75,
   "id": "d3f88d86",
   "metadata": {},
   "outputs": [],
   "source": [
    "class Person:\n",
    "    list_person = []\n",
    "    \n",
    "    def __init__(self, name):\n",
    "        self.__name = name\n",
    "        \n",
    "    @property\n",
    "    def name(self):\n",
    "        return self.__name\n",
    "    \n",
    "    @name.setter\n",
    "    def name(self, value):\n",
    "        self.__name = value\n",
    "        \n",
    "    def __repr__(self):\n",
    "        return f\"Person[name={self.name}]\"\n",
    "    \n",
    "    @staticmethod\n",
    "    def make_person_dance(name):\n",
    "        return f\"{name} is dancing 😂\"\n",
    "        \n",
    "    @classmethod\n",
    "    def create_person(cls, name):\n",
    "        newPerson = Person(name)\n",
    "        cls.list_person.append(newPerson)"
   ]
  },
  {
   "cell_type": "code",
   "execution_count": 74,
   "id": "4f09fb3f",
   "metadata": {},
   "outputs": [
    {
     "data": {
      "text/plain": [
       "'Hanan is dancing 😂'"
      ]
     },
     "execution_count": 74,
     "metadata": {},
     "output_type": "execute_result"
    }
   ],
   "source": [
    "Person.make_person_dance('Hanan')"
   ]
  },
  {
   "cell_type": "code",
   "execution_count": 76,
   "id": "8a4c34d5",
   "metadata": {},
   "outputs": [],
   "source": [
    "Person.create_person(\"Généreux\")"
   ]
  },
  {
   "cell_type": "code",
   "execution_count": 77,
   "id": "1429d67d",
   "metadata": {},
   "outputs": [
    {
     "data": {
      "text/plain": [
       "[Person[name=Généreux]]"
      ]
     },
     "execution_count": 77,
     "metadata": {},
     "output_type": "execute_result"
    }
   ],
   "source": [
    "Person.list_person"
   ]
  },
  {
   "cell_type": "code",
   "execution_count": 78,
   "id": "c879b590",
   "metadata": {},
   "outputs": [],
   "source": [
    "Person.create_person(\"Hanan\")"
   ]
  },
  {
   "cell_type": "code",
   "execution_count": 79,
   "id": "0a992550",
   "metadata": {},
   "outputs": [
    {
     "data": {
      "text/plain": [
       "[Person[name=Généreux], Person[name=Hanan]]"
      ]
     },
     "execution_count": 79,
     "metadata": {},
     "output_type": "execute_result"
    }
   ],
   "source": [
    "Person.list_person"
   ]
  },
  {
   "cell_type": "code",
   "execution_count": null,
   "id": "fe38b43c",
   "metadata": {},
   "outputs": [],
   "source": []
  }
 ],
 "metadata": {
  "kernelspec": {
   "display_name": "Python 3 (ipykernel)",
   "language": "python",
   "name": "python3"
  },
  "language_info": {
   "codemirror_mode": {
    "name": "ipython",
    "version": 3
   },
   "file_extension": ".py",
   "mimetype": "text/x-python",
   "name": "python",
   "nbconvert_exporter": "python",
   "pygments_lexer": "ipython3",
   "version": "3.10.9"
  }
 },
 "nbformat": 4,
 "nbformat_minor": 5
}
